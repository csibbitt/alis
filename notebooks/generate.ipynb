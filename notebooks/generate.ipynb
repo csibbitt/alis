{
 "cells": [
  {
   "cell_type": "code",
   "execution_count": 3,
   "id": "2484819a",
   "metadata": {},
   "outputs": [],
   "source": [
    "import os; os.chdir('..')\n",
    "import sys; sys.path.extend(['.'])\n",
    "os.environ['CC'] = 'gcc-10'\n",
    "os.environ['CXX'] = 'g++-10'"
   ]
  },
  {
   "cell_type": "code",
   "execution_count": 4,
   "id": "76d57716",
   "metadata": {},
   "outputs": [
    {
     "name": "stderr",
     "output_type": "stream",
     "text": [
      "/tmp/ipykernel_73934/2674653408.py:11: DeprecationWarning: The distutils package is deprecated and slated for removal in Python 3.12. Use setuptools or check PEP 632 for potential alternatives\n",
      "  from distutils.dir_util import copy_tree\n"
     ]
    }
   ],
   "source": [
    "from PIL import Image\n",
    "\n",
    "import os\n",
    "from PIL import Image\n",
    "import argparse\n",
    "from tqdm import tqdm\n",
    "import torch\n",
    "import torchvision.transforms.functional as TVF\n",
    "from torchsummary import summary\n",
    "import numpy as np\n",
    "from distutils.dir_util import copy_tree\n",
    "from training.networks import SynthesisLayer\n",
    "from training.networks import PatchWiseSynthesisLayer\n",
    "import dnnlib\n",
    "from scripts.legacy import load_network_pkl\n",
    "\n",
    "np.random.seed(42)\n",
    "torch.manual_seed(42)\n",
    "torch.set_grad_enabled(False)\n",
    "\n",
    "np.float = float\n",
    "# np.int = int   #module 'numpy' has no attribute 'int'\n",
    "# np.object = object    #module 'numpy' has no attribute 'object'\n",
    "# np.bool = bool    #module 'numpy' has no attribute 'bool'\n",
    "\n",
    "network_pkl = 'file:///home/chris/projects/ml/alis/lhq1024-snapshot.pkl'\n",
    "device = 'cuda'\n",
    "\n",
    "with dnnlib.util.open_url(network_pkl) as f:\n",
    "    G = load_network_pkl(f)['G_ema'].to(device) # type: ignore\n",
    "    G.eval()\n",
    "    G.progressive_growing_update(100000)\n",
    "\n",
    "for res in G.synthesis.block_resolutions:\n",
    "    block = getattr(G.synthesis, f'b{res}')\n",
    "    if hasattr(block, 'conv0'):\n",
    "        block.conv0.use_noise = False\n",
    "    block.conv1.use_noise = False"
   ]
  },
  {
   "cell_type": "code",
   "execution_count": 5,
   "id": "d462cd94",
   "metadata": {},
   "outputs": [
    {
     "name": "stdout",
     "output_type": "stream",
     "text": [
      "Setting up PyTorch plugin \"bias_act_plugin\"... Done.\n",
      "Setting up PyTorch plugin \"upfirdn2d_plugin\"... Done.\n"
     ]
    },
    {
     "ename": "KeyboardInterrupt",
     "evalue": "",
     "output_type": "error",
     "traceback": [
      "\u001b[0;31m---------------------------------------------------------------------------\u001b[0m",
      "\u001b[0;31mKeyboardInterrupt\u001b[0m                         Traceback (most recent call last)",
      "Cell \u001b[0;32mIn[5], line 35\u001b[0m\n\u001b[1;32m     32\u001b[0m     imgs\u001b[38;5;241m.\u001b[39mappend(img[\u001b[38;5;241m0\u001b[39m]\u001b[38;5;241m.\u001b[39mcpu()\u001b[38;5;241m.\u001b[39mclamp(\u001b[38;5;241m-\u001b[39m\u001b[38;5;241m1\u001b[39m, \u001b[38;5;241m1\u001b[39m) \u001b[38;5;241m*\u001b[39m \u001b[38;5;241m0.5\u001b[39m \u001b[38;5;241m+\u001b[39m \u001b[38;5;241m0.5\u001b[39m)\n\u001b[1;32m     34\u001b[0m whole_img \u001b[38;5;241m=\u001b[39m torch\u001b[38;5;241m.\u001b[39mcat(imgs, dim\u001b[38;5;241m=\u001b[39m\u001b[38;5;241m2\u001b[39m)\n\u001b[0;32m---> 35\u001b[0m \u001b[43mTVF\u001b[49m\u001b[38;5;241m.\u001b[39mresize(TVF\u001b[38;5;241m.\u001b[39mto_pil_image(whole_img), \u001b[38;5;241m256\u001b[39m, interpolation\u001b[38;5;241m=\u001b[39mImage\u001b[38;5;241m.\u001b[39mResampling\u001b[38;5;241m.\u001b[39mLANCZOS)\n",
      "Cell \u001b[0;32mIn[5], line 35\u001b[0m\n\u001b[1;32m     32\u001b[0m     imgs\u001b[38;5;241m.\u001b[39mappend(img[\u001b[38;5;241m0\u001b[39m]\u001b[38;5;241m.\u001b[39mcpu()\u001b[38;5;241m.\u001b[39mclamp(\u001b[38;5;241m-\u001b[39m\u001b[38;5;241m1\u001b[39m, \u001b[38;5;241m1\u001b[39m) \u001b[38;5;241m*\u001b[39m \u001b[38;5;241m0.5\u001b[39m \u001b[38;5;241m+\u001b[39m \u001b[38;5;241m0.5\u001b[39m)\n\u001b[1;32m     34\u001b[0m whole_img \u001b[38;5;241m=\u001b[39m torch\u001b[38;5;241m.\u001b[39mcat(imgs, dim\u001b[38;5;241m=\u001b[39m\u001b[38;5;241m2\u001b[39m)\n\u001b[0;32m---> 35\u001b[0m \u001b[43mTVF\u001b[49m\u001b[38;5;241m.\u001b[39mresize(TVF\u001b[38;5;241m.\u001b[39mto_pil_image(whole_img), \u001b[38;5;241m256\u001b[39m, interpolation\u001b[38;5;241m=\u001b[39mImage\u001b[38;5;241m.\u001b[39mResampling\u001b[38;5;241m.\u001b[39mLANCZOS)\n",
      "File \u001b[0;32m_pydevd_bundle/pydevd_cython.pyx:1457\u001b[0m, in \u001b[0;36m_pydevd_bundle.pydevd_cython.SafeCallWrapper.__call__\u001b[0;34m()\u001b[0m\n",
      "File \u001b[0;32m_pydevd_bundle/pydevd_cython.pyx:701\u001b[0m, in \u001b[0;36m_pydevd_bundle.pydevd_cython.PyDBFrame.trace_dispatch\u001b[0;34m()\u001b[0m\n",
      "File \u001b[0;32m_pydevd_bundle/pydevd_cython.pyx:1395\u001b[0m, in \u001b[0;36m_pydevd_bundle.pydevd_cython.PyDBFrame.trace_dispatch\u001b[0;34m()\u001b[0m\n",
      "File \u001b[0;32m_pydevd_bundle/pydevd_cython.pyx:1344\u001b[0m, in \u001b[0;36m_pydevd_bundle.pydevd_cython.PyDBFrame.trace_dispatch\u001b[0;34m()\u001b[0m\n",
      "File \u001b[0;32m_pydevd_bundle/pydevd_cython.pyx:312\u001b[0m, in \u001b[0;36m_pydevd_bundle.pydevd_cython.PyDBFrame.do_wait_suspend\u001b[0;34m()\u001b[0m\n",
      "File \u001b[0;32m~/.virtualenvs/alis/lib/python3.10/site-packages/debugpy/_vendored/pydevd/pydevd.py:2070\u001b[0m, in \u001b[0;36mPyDB.do_wait_suspend\u001b[0;34m(self, thread, frame, event, arg, exception_type)\u001b[0m\n\u001b[1;32m   2067\u001b[0m             from_this_thread\u001b[38;5;241m.\u001b[39mappend(frame_custom_thread_id)\n\u001b[1;32m   2069\u001b[0m     \u001b[38;5;28;01mwith\u001b[39;00m \u001b[38;5;28mself\u001b[39m\u001b[38;5;241m.\u001b[39m_threads_suspended_single_notification\u001b[38;5;241m.\u001b[39mnotify_thread_suspended(thread_id, thread, stop_reason):\n\u001b[0;32m-> 2070\u001b[0m         keep_suspended \u001b[38;5;241m=\u001b[39m \u001b[38;5;28;43mself\u001b[39;49m\u001b[38;5;241;43m.\u001b[39;49m\u001b[43m_do_wait_suspend\u001b[49m\u001b[43m(\u001b[49m\u001b[43mthread\u001b[49m\u001b[43m,\u001b[49m\u001b[43m \u001b[49m\u001b[43mframe\u001b[49m\u001b[43m,\u001b[49m\u001b[43m \u001b[49m\u001b[43mevent\u001b[49m\u001b[43m,\u001b[49m\u001b[43m \u001b[49m\u001b[43marg\u001b[49m\u001b[43m,\u001b[49m\u001b[43m \u001b[49m\u001b[43msuspend_type\u001b[49m\u001b[43m,\u001b[49m\u001b[43m \u001b[49m\u001b[43mfrom_this_thread\u001b[49m\u001b[43m,\u001b[49m\u001b[43m \u001b[49m\u001b[43mframes_tracker\u001b[49m\u001b[43m)\u001b[49m\n\u001b[1;32m   2072\u001b[0m frames_list \u001b[38;5;241m=\u001b[39m \u001b[38;5;28;01mNone\u001b[39;00m\n\u001b[1;32m   2074\u001b[0m \u001b[38;5;28;01mif\u001b[39;00m keep_suspended:\n\u001b[1;32m   2075\u001b[0m     \u001b[38;5;66;03m# This means that we should pause again after a set next statement.\u001b[39;00m\n",
      "File \u001b[0;32m~/.virtualenvs/alis/lib/python3.10/site-packages/debugpy/_vendored/pydevd/pydevd.py:2106\u001b[0m, in \u001b[0;36mPyDB._do_wait_suspend\u001b[0;34m(self, thread, frame, event, arg, suspend_type, from_this_thread, frames_tracker)\u001b[0m\n\u001b[1;32m   2103\u001b[0m         \u001b[38;5;28mself\u001b[39m\u001b[38;5;241m.\u001b[39m_call_input_hook()\n\u001b[1;32m   2105\u001b[0m     \u001b[38;5;28mself\u001b[39m\u001b[38;5;241m.\u001b[39mprocess_internal_commands()\n\u001b[0;32m-> 2106\u001b[0m     \u001b[43mtime\u001b[49m\u001b[38;5;241;43m.\u001b[39;49m\u001b[43msleep\u001b[49m\u001b[43m(\u001b[49m\u001b[38;5;241;43m0.01\u001b[39;49m\u001b[43m)\u001b[49m\n\u001b[1;32m   2108\u001b[0m \u001b[38;5;28mself\u001b[39m\u001b[38;5;241m.\u001b[39mcancel_async_evaluation(get_current_thread_id(thread), \u001b[38;5;28mstr\u001b[39m(\u001b[38;5;28mid\u001b[39m(frame)))\n\u001b[1;32m   2110\u001b[0m \u001b[38;5;66;03m# process any stepping instructions\u001b[39;00m\n",
      "\u001b[0;31mKeyboardInterrupt\u001b[0m: "
     ]
    }
   ],
   "source": [
    "num_frames = 16\n",
    "num_frames_per_w = G.synthesis_cfg.patchwise.w_coord_dist // 2\n",
    "num_ws = num_frames // num_frames_per_w + 1\n",
    "shifts = torch.arange(num_frames) * G.synthesis_cfg.patchwise.grid_size\n",
    "w_range = 2 * num_frames_per_w * G.synthesis_cfg.patchwise.grid_size\n",
    "max_shift = (num_frames_per_w * 2 - 1) * G.synthesis_cfg.patchwise.grid_size\n",
    "zs = torch.randn(num_ws, G.z_dim).to(device) \n",
    "mode_idx = 0\n",
    "modes_idx = (torch.ones(1, device=zs.device).repeat(num_ws).float() * mode_idx).long()\n",
    "ws = G.mapping(zs, c=None, modes_idx=modes_idx)\n",
    "\n",
    "z_mean = torch.randn(1000, G.z_dim).to(device)\n",
    "ws_proto = G.mapping(z_mean, c=None, modes_idx=modes_idx[0]).mean(dim=0, keepdim=True)\n",
    "\n",
    "# Truncating\n",
    "truncation_factor = 1.0\n",
    "ws = ws * truncation_factor + (1 - truncation_factor) * ws_proto\n",
    "\n",
    "imgs = []\n",
    "curr_w_idx = 1\n",
    "curr_ws = ws[curr_w_idx].unsqueeze(0)\n",
    "curr_ws_context = torch.stack([ws[curr_w_idx - 1].unsqueeze(0), ws[curr_w_idx + 1].unsqueeze(0)], dim=1)\n",
    "\n",
    "for shift in shifts:\n",
    "    if shift > 0 and shift % w_range == 0:\n",
    "        curr_w_idx += 2\n",
    "        curr_ws = ws[curr_w_idx].unsqueeze(0)\n",
    "        curr_ws_context = torch.stack([ws[curr_w_idx - 1].unsqueeze(0), ws[curr_w_idx + 1].unsqueeze(0)], dim=1)\n",
    "\n",
    "    curr_left_borders_idx = torch.zeros(1, device=zs.device).long() + (shift % w_range)\n",
    "    img = G.synthesis(curr_ws, ws_context=curr_ws_context, left_borders_idx=curr_left_borders_idx, noise='const')\n",
    "    imgs.append(img[0].cpu().clamp(-1, 1) * 0.5 + 0.5)\n",
    "\n",
    "whole_img = torch.cat(imgs, dim=2)\n",
    "TVF.resize(TVF.to_pil_image(whole_img), 256, interpolation=Image.Resampling.LANCZOS)"
   ]
  },
  {
   "cell_type": "markdown",
   "id": "4c8a47f9",
   "metadata": {},
   "source": [
    "### Generating a video"
   ]
  },
  {
   "cell_type": "code",
   "execution_count": null,
   "id": "60dac72d",
   "metadata": {},
   "outputs": [
    {
     "name": "stderr",
     "output_type": "stream",
     "text": [
      "/tmp/ipykernel_26709/3450232161.py:14: DeprecationWarning: LANCZOS is deprecated and will be removed in Pillow 10 (2023-07-01). Use Resampling.LANCZOS instead.\n",
      "  frames = [TVF.resize(img, frame_size, interpolation=Image.LANCZOS) for img in frames]\n",
      " 27%|██▋       | 820/3072 [00:36<01:55, 19.46it/s]"
     ]
    }
   ],
   "source": [
    "import os\n",
    "from PIL import Image\n",
    "import torch\n",
    "import torchvision.transforms.functional as TVF\n",
    "\n",
    "import numpy as np\n",
    "import scipy.misc\n",
    "import cv2\n",
    "from tqdm import tqdm\n",
    "\n",
    "# Load data\n",
    "frame_size = 512 # Determines the height (in pixels) of the video\n",
    "frames = [TVF.to_pil_image(img) for img in imgs]\n",
    "frames = [TVF.resize(img, frame_size, interpolation=Image.Resampling.LANCZOS) for img in frames]\n",
    "\n",
    "step_size = 2 # Controls the camera movement speed (i.e. how many pixels we move from frame to frame)\n",
    "aspect_ratio = 4 # Aspect ratio of the video\n",
    "h = frame_size\n",
    "w = frame_size * aspect_ratio\n",
    "whole_img = torch.cat([TVF.to_tensor(im) for im in frames], dim=2)\n",
    "num_frames = (whole_img.shape[2] - frame_size * aspect_ratio) // step_size\n",
    "curr_offset = 0\n",
    "\n",
    "save_path = 'video.mp4'\n",
    "fourcc = cv2.VideoWriter_fourcc('m', 'p', '4', 'v')\n",
    "video = cv2.VideoWriter(save_path, fourcc, 60, (w, h))\n",
    "for frame_idx in tqdm(range(num_frames)):\n",
    "    curr_offset += step_size\n",
    "    frame = whole_img[:, :, curr_offset:curr_offset + frame_size * aspect_ratio]\n",
    "    frame = TVF.to_pil_image(frame)\n",
    "    video.write(cv2.cvtColor(np.array(frame), cv2.COLOR_RGB2BGR))\n",
    "\n",
    "# Uncomment this line to release the memory.\n",
    "# It didn't work for me on centos and complained about installing additional libraries (which requires root access)\n",
    "# cv2.destroyAllWindows()\n",
    "video.release()"
   ]
  }
 ],
 "metadata": {
  "kernelspec": {
   "display_name": "Python 3 (ipykernel)",
   "language": "python",
   "name": "python3"
  },
  "language_info": {
   "codemirror_mode": {
    "name": "ipython",
    "version": 3
   },
   "file_extension": ".py",
   "mimetype": "text/x-python",
   "name": "python",
   "nbconvert_exporter": "python",
   "pygments_lexer": "ipython3",
   "version": "3.10.12"
  }
 },
 "nbformat": 4,
 "nbformat_minor": 5
}
